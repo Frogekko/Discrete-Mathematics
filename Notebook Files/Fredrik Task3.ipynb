{
 "cells": [
  {
   "cell_type": "code",
   "execution_count": 30,
   "id": "d9a8715c-829d-4026-9f41-6281766156f0",
   "metadata": {},
   "outputs": [
    {
     "name": "stdin",
     "output_type": "stream",
     "text": [
      "Choose start position:  Marge\n",
      "Choose end point:  KalEl\n"
     ]
    },
    {
     "name": "stdout",
     "output_type": "stream",
     "text": [
      "Shortest path from Marge to KalEl: ['Marge', 'Lisa', 'Matthew', 'Samantha', 'Tyler', 'Kyle', 'Zod', 'JorEl', 'KalEl'] (Distance: 8)\n"
     ]
    }
   ],
   "source": [
    "import networkx as nx\n",
    "import gurobipy as gp\n",
    "\n",
    "# Create a directed graph\n",
    "G = nx.Graph()\n",
    "\n",
    "# Define the edges representing relationships between people\n",
    "G.add_edges_from ([\n",
    "    (\"Ashley\", \"Christopher\"), (\"Ashley\", \"Emily\"), (\"Ashley\", \"Joshua\"),\n",
    "    (\"Bart\", \"Lisa\"), (\"Bart\", \"Matthew\"), (\"Christopher\", \"Andrew\"),\n",
    "    (\"Emily\", \"Joshua\"), (\"Jacob\", \"Christopher\"), (\"Jessica\", \"Ashley\"),\n",
    "    (\"JorEl\", \"Zod\"), (\"KalEl\", \"JorEl\"), (\"Kyle\", \"Lex\"), (\"Kyle\", \"Zod\"),\n",
    "    (\"Lisa\", \"Marge\"), (\"Matthew\", \"Lisa\"), (\"Michael\", \"Christopher\"),\n",
    "    (\"Michael\", \"Joshua\"), (\"Michael\", \"Jessica\"), (\"Samantha\", \"Matthew\"),\n",
    "    (\"Samantha\", \"Tyler\"), (\"Sarah\", \"Andrew\"), (\"Sarah\", \"Christopher\"),\n",
    "    (\"Sarah\", \"Emily\"), (\"Tyler\", \"Kyle\"), (\"Stuart\", \"Jacob\")\n",
    "])\n",
    "\n",
    "# Initialize the Gurobi optimization model\n",
    "m = gp.Model()\n",
    "\n",
    "# Define binary decision variables for each edge in the graph\n",
    "x = gp.tupledict()\n",
    "# Since this is an undirected graph we need to be able to go in both directions\n",
    "for (v1, v2) in G.edges:\n",
    "    x[v1, v2] = m.addVar(vtype=\"B\", name=f\"x_{v1}_{v2}\")\n",
    "    x[v2, v1] = m.addVar(vtype=\"B\", name=f\"x_{v2}_{v1}\")\n",
    "    \n",
    "\n",
    "# adding flow conservation constraints\n",
    "for v in G.nodes:\n",
    "    if v not in [\"Ashley\", \"Zod\"]:  # Replace with actual source and sink nodes if needed\n",
    "        # Sum of incoming flows should equal sum of outgoing flows\n",
    "        expr1 = gp.quicksum(x[i, v] for i in G.neighbors(v) if (i, v) in x or (v, i) in x)# Incoming flow\n",
    "        expr2 = gp.quicksum(x[v, i] for i in G.neighbors(v) if (v, i) in x or (i, v) in x) # Outgoing flow\n",
    "        \n",
    "        m.addLConstr(expr1 - expr2 == 0)\n",
    "        \n",
    "# Function to compute shortest path distance\n",
    "def get_shortest_path(source, target):\n",
    "    try:\n",
    "        distance = nx.shortest_path_length(G, source=source, target=target)\n",
    "        path = nx.shortest_path(G, source=source, target=target)\n",
    "        return f\"Shortest path from {source} to {target}: {path} (Distance: {distance})\"\n",
    "    except nx.NetworkXNoPath:\n",
    "        return f\"No path exists between {source} and {target}\"\n",
    "    except nx.NodeNotFound:\n",
    "        return f\"These are not found in the same friend group.\"\n",
    "\n",
    "# Promt the user for input\n",
    "start = input(\"Choose start position: \")\n",
    "end = input(\"Choose end point: \")\n",
    "\n",
    "\n",
    "# Print the shortest path distance or notify if nodes are not connected\n",
    "print(get_shortest_path(start, end))"
   ]
  }
 ],
 "metadata": {
  "kernelspec": {
   "display_name": "Python 3 (ipykernel)",
   "language": "python",
   "name": "python3"
  },
  "language_info": {
   "codemirror_mode": {
    "name": "ipython",
    "version": 3
   },
   "file_extension": ".py",
   "mimetype": "text/x-python",
   "name": "python",
   "nbconvert_exporter": "python",
   "pygments_lexer": "ipython3",
   "version": "3.12.3"
  }
 },
 "nbformat": 4,
 "nbformat_minor": 5
}
